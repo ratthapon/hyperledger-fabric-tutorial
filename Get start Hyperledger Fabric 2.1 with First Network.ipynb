{
 "cells": [
  {
   "cell_type": "markdown",
   "metadata": {},
   "source": [
    "# การติดตั้งและเริ่มใช้งาน Hyperledger Fabric เบื้องต้น\n",
    "\n",
    "*** ตัวอย่างนี้เป็นการติดตั้งและทดลองรัน Hyperledger Fabric version อย่างง่าย ซึ่งไม่เหมาะแ่กการใช้งานใน production environment ***\n",
    "\n",
    "## Requirements\n",
    "\n",
    "1. ติดตั้งโดยเครื่องมือ สคริปต์ และตัวอย่างที่ทาง official Hyperledger มีให้\n",
    "2. ติดตั้งบนเครื่อง Stand alone เพียงเครื่องเดียว\n",
    "3. ติดตั้งโดยใช้ Docker CE เป็นหลัก\n",
    "4. ใช้ตัวอย่าง chaincode example_02 ที่ official มีให้\n",
    "\n",
    "## System requirements\n",
    "\n",
    "1. OS: Ubuntu 18.04 LTS (MacOS/Windows ก็สามารถติดตั้งได้เช่นกัน แต่ต้องใช้ทักษะ config Docker เพิ่มเติมเพื่อติดตั้ง)\n",
    "2. CPU: ยิ่งเยอะยิ่งดี เพราะ Blockchain มี service หลาย service มาก รวมไปถึงใช้งาน database หลาย instance\n",
    "3. RAM: อย่างน้อย 8 GB สำหรับการติดตั้งแบบเครื่องเดียว\n",
    "4. Internet: ไม่เช่นนั้นจะไม่สามารถ run docker container ได้\n",
    "\n",
    "## Step โดยรวมในตัวอย่างนี้ประกอบด้วย\n",
    "\n",
    "0. Setup เครื่องสำหรับใช้งาน notebook นี้\n",
    "1. Setup เครื่องสำหรับการติดตั้งและใช้งาน Hyperledger Fabric\n",
    "2. Generate crypto materail ซึ่งเป็น artifact สำหรับการสร้าง blockchain network และ permissioned channel สำหรับการทำ transaction  ต่างๆ\n",
    "3. deploy blockchain network และทดสอบด้วย end to end test ที่ตัวอย่างให้มา\n",
    "4. terminate blockchain service "
   ]
  },
  {
   "cell_type": "markdown",
   "metadata": {},
   "source": [
    "สำหรับเครื่องที่ใช้ทดสอบตัวอย่างนี้มีสเปคดังนี้"
   ]
  },
  {
   "cell_type": "code",
   "execution_count": 1,
   "metadata": {},
   "outputs": [
    {
     "name": "stdout",
     "output_type": "stream",
     "text": [
      "No LSB modules are available.\n",
      "Distributor ID:\tUbuntu\n",
      "Description:\tUbuntu 18.04.4 LTS\n",
      "Release:\t18.04\n",
      "Codename:\tbionic\n",
      "\u001b[01;31m\u001b[KModel name\u001b[m\u001b[K:          Intel(R) Core(TM) i7-8665U CPU @ 1.90GHz\n",
      "\u001b[01;31m\u001b[KTotal online memory\u001b[m\u001b[K:    15.9G\n"
     ]
    }
   ],
   "source": [
    "lsb_release -a\n",
    "lscpu | grep \"Model name\"\n",
    "lsmem | grep \"Total online memory\""
   ]
  },
  {
   "cell_type": "markdown",
   "metadata": {},
   "source": [
    "## Step 0 Install & Setup environment สำหรับ notebook นี้\n",
    "\n",
    "*** step นี้ให้เปิด terminal และ run แต่ละ command ใน terminal นะครับ ***\n",
    "\n",
    "ติดตั้ง  [Bash kernel](https://github.com/takluyver/bash_kernel) สำหรับ Jupyter จะได้ run Ubuntu command ได้จากใน notebook"
   ]
  },
  {
   "cell_type": "markdown",
   "metadata": {},
   "source": [
    "```shell\n",
    "pip install bash_kernel\n",
    "python -m bash_kernel.install\n",
    "```"
   ]
  },
  {
   "cell_type": "markdown",
   "metadata": {},
   "source": [
    "แก้ให้ไม่ต้องใส่ password สำหรับคำสั่ง sudo ด้วยการ edit file /etc/sudoers"
   ]
  },
  {
   "cell_type": "markdown",
   "metadata": {},
   "source": [
    "```shell\n",
    "sudo visudo\n",
    "```"
   ]
  },
  {
   "cell_type": "markdown",
   "metadata": {},
   "source": [
    "ใส่\n",
    "\n",
    "```text\n",
    "username     ALL=(ALL) NOPASSWD:ALL\n",
    "```\n",
    "\n",
    "เข้าไปในบรรทัดสุดท้ายและ save file /etc/sudoers"
   ]
  },
  {
   "cell_type": "markdown",
   "metadata": {},
   "source": [
    "เปิด notebook นี้ด้วยการรันคำสั่งใน terminal"
   ]
  },
  {
   "cell_type": "markdown",
   "metadata": {},
   "source": [
    "```shell\n",
    "jupyter notebook\n",
    "```"
   ]
  },
  {
   "cell_type": "markdown",
   "metadata": {},
   "source": [
    "## Step 1 Setup เครื่องที่ใช้งาน\n",
    "\n",
    "### ติดตั้ง docker engine และ docker-compose ต่างๆ\n",
    "\n",
    "ในบทความนี้จะใช้ Docker Commutnity Edition (Docker CE) เป็นหลักนะครับ"
   ]
  },
  {
   "cell_type": "code",
   "execution_count": 2,
   "metadata": {},
   "outputs": [
    {
     "name": "stdout",
     "output_type": "stream",
     "text": [
      "Err:1 http://dl.google.com/linux/chrome/deb stable InRelease\n",
      "  Could not resolve 'dl.google.com'\n",
      "Err:2 https://download.docker.com/linux/ubuntu bionic InRelease                \n",
      "  Could not resolve 'download.docker.com'\n",
      "Err:3 http://packages.microsoft.com/repos/vscode stable InRelease              \n",
      "  Could not resolve 'packages.microsoft.com'\n",
      "Err:4 https://dl.winehq.org/wine-builds/ubuntu bionic InRelease                \n",
      "  Could not resolve 'dl.winehq.org'\n",
      "Err:5 https://repo.windscribe.com/ubuntu bionic InRelease                      \n",
      "  Could not resolve 'repo.windscribe.com'\n",
      "Err:6 http://th.archive.ubuntu.com/ubuntu bionic InRelease                     \n",
      "  Could not resolve 'th.archive.ubuntu.com'\n",
      "Err:7 http://ppa.launchpad.net/longsleep/golang-backports/ubuntu bionic InRelease\n",
      "  Could not resolve 'ppa.launchpad.net'\n",
      "Err:8 http://security.ubuntu.com/ubuntu bionic-security InRelease       \n",
      "  Could not resolve 'security.ubuntu.com'\n",
      "Err:9 http://th.archive.ubuntu.com/ubuntu bionic-updates InRelease\n",
      "  Could not resolve 'th.archive.ubuntu.com'\n",
      "Err:10 http://th.archive.ubuntu.com/ubuntu bionic-backports InRelease\n",
      "  Could not resolve 'th.archive.ubuntu.com'\n",
      "Reading package lists... Done\n",
      "W: Failed to fetch http://th.archive.ubuntu.com/ubuntu/dists/bionic/InRelease  Could not resolve 'th.archive.ubuntu.com'\n",
      "W: Failed to fetch http://th.archive.ubuntu.com/ubuntu/dists/bionic-updates/InRelease  Could not resolve 'th.archive.ubuntu.com'\n",
      "W: Failed to fetch http://th.archive.ubuntu.com/ubuntu/dists/bionic-backports/InRelease  Could not resolve 'th.archive.ubuntu.com'\n",
      "W: Failed to fetch http://security.ubuntu.com/ubuntu/dists/bionic-security/InRelease  Could not resolve 'security.ubuntu.com'\n",
      "W: Failed to fetch https://download.docker.com/linux/ubuntu/dists/bionic/InRelease  Could not resolve 'download.docker.com'\n",
      "W: Failed to fetch https://dl.winehq.org/wine-builds/ubuntu/dists/bionic/InRelease  Could not resolve 'dl.winehq.org'\n",
      "W: Failed to fetch http://dl.google.com/linux/chrome/deb/dists/stable/InRelease  Could not resolve 'dl.google.com'\n",
      "W: Failed to fetch http://ppa.launchpad.net/longsleep/golang-backports/ubuntu/dists/bionic/InRelease  Could not resolve 'ppa.launchpad.net'\n",
      "W: Failed to fetch http://packages.microsoft.com/repos/vscode/dists/stable/InRelease  Could not resolve 'packages.microsoft.com'\n",
      "W: Failed to fetch https://repo.windscribe.com/ubuntu/dists/bionic/InRelease  Could not resolve 'repo.windscribe.com'\n",
      "W: Some index files failed to download. They have been ignored, or old ones used instead.\n",
      "Reading package lists... Done\n",
      "Building dependency tree       \n",
      "Reading state information... Done\n",
      "ca-certificates is already the newest version (20180409).\n",
      "unzip is already the newest version (6.0-21ubuntu1).\n",
      "zip is already the newest version (3.0-11build1).\n",
      "tree is already the newest version (1.7.0-5).\n",
      "curl is already the newest version (7.58.0-2ubuntu3.8).\n",
      "software-properties-common is already the newest version (0.96.24.32.12).\n",
      "apt-transport-https is already the newest version (1.6.12).\n",
      "gnupg-agent is already the newest version (2.2.4-1ubuntu1.2).\n",
      "The following packages were automatically installed and are no longer required:\n",
      "  gccgo-8 libgo13 linux-headers-5.3.0-28 linux-headers-5.3.0-28-generic\n",
      "  linux-image-5.3.0-28-generic linux-modules-5.3.0-28-generic\n",
      "  linux-modules-extra-5.3.0-28-generic pkg-config\n",
      "Use 'sudo apt autoremove' to remove them.\n",
      "0 upgraded, 0 newly installed, 0 to remove and 5 not upgraded.\n",
      "curl: (6) Could not resolve host: download.docker.com\n",
      "gpg: no valid OpenPGP data found.\n",
      "Err:1 https://download.docker.com/linux/ubuntu bionic InRelease\n",
      "  Could not resolve 'download.docker.com'\n",
      "Err:2 http://security.ubuntu.com/ubuntu bionic-security InRelease              \n",
      "  Could not resolve 'security.ubuntu.com'\n",
      "Err:3 http://dl.google.com/linux/chrome/deb stable InRelease                   \n",
      "  Could not resolve 'dl.google.com'\n",
      "Err:4 http://th.archive.ubuntu.com/ubuntu bionic InRelease                     \n",
      "  Could not resolve 'th.archive.ubuntu.com'\n",
      "Err:5 https://repo.windscribe.com/ubuntu bionic InRelease                      \n",
      "  Could not resolve 'repo.windscribe.com'\n",
      "Err:6 https://dl.winehq.org/wine-builds/ubuntu bionic InRelease                \n",
      "  Could not resolve 'dl.winehq.org'\n",
      "Err:7 http://ppa.launchpad.net/longsleep/golang-backports/ubuntu bionic InRelease\n",
      "  Could not resolve 'ppa.launchpad.net'\n",
      "Err:8 http://packages.microsoft.com/repos/vscode stable InRelease          \n",
      "  Could not resolve 'packages.microsoft.com'\n",
      "Err:9 http://th.archive.ubuntu.com/ubuntu bionic-updates InRelease\n",
      "  Could not resolve 'th.archive.ubuntu.com'\n",
      "Err:10 http://th.archive.ubuntu.com/ubuntu bionic-backports InRelease\n",
      "  Could not resolve 'th.archive.ubuntu.com'\n",
      "Reading package lists... Done\n",
      "W: Failed to fetch http://th.archive.ubuntu.com/ubuntu/dists/bionic/InRelease  Could not resolve 'th.archive.ubuntu.com'\n",
      "W: Failed to fetch http://th.archive.ubuntu.com/ubuntu/dists/bionic-updates/InRelease  Could not resolve 'th.archive.ubuntu.com'\n",
      "W: Failed to fetch http://th.archive.ubuntu.com/ubuntu/dists/bionic-backports/InRelease  Could not resolve 'th.archive.ubuntu.com'\n",
      "W: Failed to fetch http://security.ubuntu.com/ubuntu/dists/bionic-security/InRelease  Could not resolve 'security.ubuntu.com'\n",
      "W: Failed to fetch https://download.docker.com/linux/ubuntu/dists/bionic/InRelease  Could not resolve 'download.docker.com'\n",
      "W: Failed to fetch https://dl.winehq.org/wine-builds/ubuntu/dists/bionic/InRelease  Could not resolve 'dl.winehq.org'\n",
      "W: Failed to fetch http://dl.google.com/linux/chrome/deb/dists/stable/InRelease  Could not resolve 'dl.google.com'\n",
      "W: Failed to fetch http://ppa.launchpad.net/longsleep/golang-backports/ubuntu/dists/bionic/InRelease  Could not resolve 'ppa.launchpad.net'\n",
      "W: Failed to fetch http://packages.microsoft.com/repos/vscode/dists/stable/InRelease  Could not resolve 'packages.microsoft.com'\n",
      "W: Failed to fetch https://repo.windscribe.com/ubuntu/dists/bionic/InRelease  Could not resolve 'repo.windscribe.com'\n",
      "W: Some index files failed to download. They have been ignored, or old ones used instead.\n",
      "Err:1 https://repo.windscribe.com/ubuntu bionic InRelease\n",
      "  Could not resolve 'repo.windscribe.com'\n",
      "Err:2 http://dl.google.com/linux/chrome/deb stable InRelease                   \n",
      "  Could not resolve 'dl.google.com'\n",
      "Err:3 https://dl.winehq.org/wine-builds/ubuntu bionic InRelease                \n",
      "  Could not resolve 'dl.winehq.org'\n",
      "Err:4 http://packages.microsoft.com/repos/vscode stable InRelease              \n",
      "  Could not resolve 'packages.microsoft.com'\n",
      "Err:5 http://ppa.launchpad.net/longsleep/golang-backports/ubuntu bionic InRelease\n",
      "  Could not resolve 'ppa.launchpad.net'\n",
      "Err:6 http://security.ubuntu.com/ubuntu bionic-security InRelease              \n",
      "  Could not resolve 'security.ubuntu.com'\n",
      "Err:7 https://download.docker.com/linux/ubuntu bionic InRelease                \n",
      "  Could not resolve 'download.docker.com'\n",
      "Err:8 http://th.archive.ubuntu.com/ubuntu bionic InRelease                  \n",
      "  Could not resolve 'th.archive.ubuntu.com'\n",
      "Err:9 http://th.archive.ubuntu.com/ubuntu bionic-updates InRelease\n",
      "  Could not resolve 'th.archive.ubuntu.com'\n",
      "Err:10 http://th.archive.ubuntu.com/ubuntu bionic-backports InRelease\n",
      "  Could not resolve 'th.archive.ubuntu.com'\n",
      "Reading package lists... Done\n",
      "W: Failed to fetch http://th.archive.ubuntu.com/ubuntu/dists/bionic/InRelease  Could not resolve 'th.archive.ubuntu.com'\n",
      "W: Failed to fetch http://th.archive.ubuntu.com/ubuntu/dists/bionic-updates/InRelease  Could not resolve 'th.archive.ubuntu.com'\n",
      "W: Failed to fetch http://th.archive.ubuntu.com/ubuntu/dists/bionic-backports/InRelease  Could not resolve 'th.archive.ubuntu.com'\n",
      "W: Failed to fetch http://security.ubuntu.com/ubuntu/dists/bionic-security/InRelease  Could not resolve 'security.ubuntu.com'\n",
      "W: Failed to fetch https://download.docker.com/linux/ubuntu/dists/bionic/InRelease  Could not resolve 'download.docker.com'\n",
      "W: Failed to fetch https://dl.winehq.org/wine-builds/ubuntu/dists/bionic/InRelease  Could not resolve 'dl.winehq.org'\n",
      "W: Failed to fetch http://dl.google.com/linux/chrome/deb/dists/stable/InRelease  Could not resolve 'dl.google.com'\n",
      "W: Failed to fetch http://ppa.launchpad.net/longsleep/golang-backports/ubuntu/dists/bionic/InRelease  Could not resolve 'ppa.launchpad.net'\n"
     ]
    },
    {
     "name": "stdout",
     "output_type": "stream",
     "text": [
      "W: Failed to fetch http://packages.microsoft.com/repos/vscode/dists/stable/InRelease  Could not resolve 'packages.microsoft.com'\n",
      "W: Failed to fetch https://repo.windscribe.com/ubuntu/dists/bionic/InRelease  Could not resolve 'repo.windscribe.com'\n",
      "W: Some index files failed to download. They have been ignored, or old ones used instead.\n",
      "Reading package lists... Done\n",
      "Building dependency tree       \n",
      "Reading state information... Done\n",
      "docker-compose is already the newest version (1.17.1-2).\n",
      "containerd.io is already the newest version (1.2.13-1).\n",
      "docker-ce-cli is already the newest version (5:19.03.8~3-0~ubuntu-bionic).\n",
      "docker-ce is already the newest version (5:19.03.8~3-0~ubuntu-bionic).\n",
      "The following packages were automatically installed and are no longer required:\n",
      "  gccgo-8 libgo13 linux-headers-5.3.0-28 linux-headers-5.3.0-28-generic\n",
      "  linux-image-5.3.0-28-generic linux-modules-5.3.0-28-generic\n",
      "  linux-modules-extra-5.3.0-28-generic pkg-config\n",
      "Use 'sudo apt autoremove' to remove them.\n",
      "0 upgraded, 0 newly installed, 0 to remove and 5 not upgraded.\n"
     ]
    }
   ],
   "source": [
    "sudo apt-get update\n",
    "\n",
    "sudo apt-get install -y \\\n",
    "    apt-transport-https \\\n",
    "    ca-certificates \\\n",
    "    curl \\\n",
    "    gnupg-agent \\\n",
    "    software-properties-common \\\n",
    "    tree \\\n",
    "    zip unzip \n",
    "    \n",
    "curl -fsSL https://download.docker.com/linux/ubuntu/gpg | sudo apt-key add -\n",
    "\n",
    "sudo add-apt-repository \\\n",
    "   \"deb [arch=amd64] https://download.docker.com/linux/ubuntu \\\n",
    "   $(lsb_release -cs) \\\n",
    "   stable\"\n",
    "   \n",
    "sudo apt-get update\n",
    "\n",
    "sudo apt-get install docker-ce docker-ce-cli containerd.io docker-compose"
   ]
  },
  {
   "cell_type": "markdown",
   "metadata": {},
   "source": [
    "### ตั้งค่าให้ user สามารถใช้ docker ได้โดยไม่ต้องใช้ `sudo` ([Docker post installation](https://docs.docker.com/install/linux/linux-postinstall/))\n"
   ]
  },
  {
   "cell_type": "code",
   "execution_count": 3,
   "metadata": {},
   "outputs": [
    {
     "name": "stdout",
     "output_type": "stream",
     "text": [
      "groupadd: group 'docker' already exists\n"
     ]
    }
   ],
   "source": [
    "sudo groupadd docker\n",
    "sudo usermod -aG docker $USER"
   ]
  },
  {
   "cell_type": "markdown",
   "metadata": {},
   "source": [
    "## ทดสอบการทำงานของ docker"
   ]
  },
  {
   "cell_type": "code",
   "execution_count": 4,
   "metadata": {},
   "outputs": [
    {
     "name": "stdout",
     "output_type": "stream",
     "text": [
      "Unable to find image 'hello-world:latest' locally\n",
      "docker: Error response from daemon: Get https://registry-1.docker.io/v2/: dial tcp: lookup registry-1.docker.io: no such host.\n",
      "See 'docker run --help'.\n"
     ]
    },
    {
     "ename": "",
     "evalue": "125",
     "output_type": "error",
     "traceback": []
    }
   ],
   "source": [
    "docker run hello-world"
   ]
  },
  {
   "cell_type": "markdown",
   "metadata": {},
   "source": [
    "## Step 2 Download Hyperledger Fabric binary files และ ตัวอย่าง\n",
    "\n",
    "download file ที่จำเป็นในการใช้งาน โดยจะมีสิ่งที่ต้อง download 3 ประเภทหลัก คือ \n",
    "\n",
    "### 1. Hyperledger Fabric docker images\n",
    "เป็น docker image ที่ pack core service ของ Hyperledger Fabric เอาไว้แล้ว ทำให้เราไม่ต้องติดตั้ง service เอง ทำให้เรา deploy blockchain network ได้คล่องตัวกว่า ซึ่งเราสามารถ custom config/parameter ต่าง ๆ ผ่านไฟล์ docker-compose.yaml ได้\n",
    "### 2. Hyperledger Fabric samples \n",
    "เป็นตัวอย่าง config และ chaincode (smart contract) ที่ทางทีมงาน Hyperledger เตรีมไว้ให้ทดลองเล่น และสามารถนำไปประยุกต์ใช้กับ app ของเราได้\n",
    "### 3. Hyperledger Fabric platform-specific binaries\n",
    "เป็น tool สำหรับการสร้าง crypto material และเรียกใช้งาน blockchain service ต่างๆ"
   ]
  },
  {
   "cell_type": "markdown",
   "metadata": {},
   "source": [
    "คำสั่งที่ใช้ download ทุกอย่างแบบปกติ คือ\n",
    "\n",
    "```shell\n",
    "curl -sSL http://bit.ly/2ysbOFE | bash -s\n",
    "```\n",
    "\n",
    "step นี้จะใช้เวลาค่อนข้างนาน เพราะต้อง download\n",
    "1. Hyperledger Fabric docker images จำนวนมาก\n",
    "2. Hyperledger Fabric samples หลายตัวอย่าง\n",
    "3. Hyperledger Fabric platform-specific binaries ซึ่งใช้เวลา download ค่อนข้างนาน\n",
    "\n",
    "\n",
    "เรามามารถ bypass ได้โดยการใส่ option\n",
    "\n",
    "-d : bypass docker image download\n",
    "\n",
    "-s : bypass fabric-samples repo clone\n",
    "\n",
    "-b : bypass download of platform-specific binaries\n",
    "\n",
    "ตัวอย่างการใช้งานเมื่อไม่ต้องการ download docker image และ samples\n",
    "\n",
    "```shell\n",
    "curl -sSL http://bit.ly/2ysbOFE | bash -s -- -d -s\n",
    "```\n",
    "\n",
    "ในตัวอย่างนี้จะทำการ download เฉพาะ binary file และตัวอย่างเท่านั้น ซึ่ง docker image ที่จำเป็นต้องใช้จะถูก pull ในขณะ deploy service อยู่แล้ว"
   ]
  },
  {
   "cell_type": "code",
   "execution_count": 5,
   "metadata": {},
   "outputs": [
    {
     "name": "stdout",
     "output_type": "stream",
     "text": [
      "curl: (6) Could not resolve host: bit.ly\n"
     ]
    }
   ],
   "source": [
    "curl -sSL http://bit.ly/2ysbOFE | bash -s -- -d"
   ]
  },
  {
   "cell_type": "markdown",
   "metadata": {},
   "source": [
    "[ข้อมูลการติดตั้งเพิ่มเติม](https://hyperledger-fabric.readthedocs.io/en/release-1.4/install.html)\n",
    "\n",
    "Set system path เพื่อให้ระบบมองเห็น binary"
   ]
  },
  {
   "cell_type": "code",
   "execution_count": 6,
   "metadata": {},
   "outputs": [],
   "source": [
    "export PATH=$HOME/bin:$PATH"
   ]
  },
  {
   "cell_type": "markdown",
   "metadata": {},
   "source": [
    "## Step 3 Deploy Hyperledger Fabric Network\n",
    "\n",
    "change directory ไปที่ fabric-samples/first-network"
   ]
  },
  {
   "cell_type": "code",
   "execution_count": 7,
   "metadata": {},
   "outputs": [],
   "source": [
    "cd ~/fabric-samples/test-network"
   ]
  },
  {
   "cell_type": "markdown",
   "metadata": {},
   "source": [
    "ลองดูว่าใน script first network สามารถทำอะไรได้บ้าง"
   ]
  },
  {
   "cell_type": "code",
   "execution_count": 8,
   "metadata": {},
   "outputs": [
    {
     "name": "stdout",
     "output_type": "stream",
     "text": [
      "Usage: \n",
      "  network.sh <Mode> [Flags]\n",
      "    <Mode>\n",
      "      - 'up' - bring up fabric orderer and peer nodes. No channel is created\n",
      "      - 'up createChannel' - bring up fabric network with one channel\n",
      "      - 'createChannel' - create and join a channel after the network is created\n",
      "      - 'deployCC' - deploy the fabcar chaincode on the channel\n",
      "      - 'down' - clear the network with docker-compose down\n",
      "      - 'restart' - restart the network\n",
      "\n",
      "    Flags:\n",
      "    -ca <use CAs> -  create Certificate Authorities to generate the crypto material\n",
      "    -c <channel name> - channel name to use (defaults to \"mychannel\")\n",
      "    -s <dbtype> - the database backend to use: goleveldb (default) or couchdb\n",
      "    -r <max retry> - CLI times out after certain number of attempts (defaults to 5)\n",
      "    -d <delay> - delay duration in seconds (defaults to 3)\n",
      "    -l <language> - the programming language of the chaincode to deploy: go (default), java, javascript, typescript\n",
      "    -v <version>  - chaincode version. Must be a round number, 1, 2, 3, etc\n",
      "    -i <imagetag> - the tag to be used to launch the network (defaults to \"latest\")\n",
      "    -verbose - verbose mode\n",
      "  network.sh -h (print this message)\n",
      "\n",
      " Possible Mode and flags\n",
      "  network.sh up -ca -c -r -d -s -i -verbose\n",
      "  network.sh up createChannel -ca -c -r -d -s -i -verbose\n",
      "  network.sh createChannel -c -r -d -verbose\n",
      "  network.sh deployCC -l -v -r -d -verbose\n",
      "\n",
      " Taking all defaults:\n",
      "\tnetwork.sh up\n",
      "\n",
      " Examples:\n",
      "  network.sh up createChannel -ca -c mychannel -s couchdb -i 2.0.0\n",
      "  network.sh createChannel -c channelName\n",
      "  network.sh deployCC -l javascript\n"
     ]
    },
    {
     "ename": "",
     "evalue": "1",
     "output_type": "error",
     "traceback": []
    }
   ],
   "source": [
    "bash network.sh -h"
   ]
  },
  {
   "cell_type": "markdown",
   "metadata": {},
   "source": [
    "deploy orderer, peer0.org1, peer0.org2 รอไว้สร้าง channel อีกที"
   ]
  },
  {
   "cell_type": "code",
   "execution_count": 10,
   "metadata": {},
   "outputs": [
    {
     "name": "stdout",
     "output_type": "stream",
     "text": [
      "Starting nodes with CLI timeout of '5' tries and CLI delay of '3' seconds and using database 'leveldb' \n",
      "\n",
      "Unable to find image 'hyperledger/fabric-tools:2.1.0' locally\n",
      "2.1.0: Pulling from hyperledger/fabric-tools\n",
      "aad63a933944: Pulling fs layer\n",
      "c732a2540651: Pulling fs layer\n",
      "7b2225181d6b: Pulling fs layer\n",
      "c8dae7ec6990: Pulling fs layer\n",
      "08684ee472f3: Pulling fs layer\n",
      "da7709617ee6: Pulling fs layer\n",
      "c414c3a96843: Pulling fs layer\n",
      "e41f76c354cf: Pulling fs layer\n",
      "08684ee472f3: Waiting\n",
      "da7709617ee6: Waiting\n",
      "c414c3a96843: Waiting\n",
      "7b2225181d6b: Verifying Checksum\n",
      "7b2225181d6b: Download complete\n",
      "c732a2540651: Verifying Checksum\n",
      "c732a2540651: Download complete\n",
      "aad63a933944: Verifying Checksum\n",
      "aad63a933944: Pull complete\n",
      "c732a2540651: Pull complete\n",
      "7b2225181d6b: Pull complete\n",
      "08684ee472f3: Download complete\n",
      "da7709617ee6: Verifying Checksum\n",
      "da7709617ee6: Download complete\n",
      "e41f76c354cf: Download complete\n",
      "c414c3a96843: Verifying Checksum\n",
      "c414c3a96843: Download complete\n",
      "c8dae7ec6990: Verifying Checksum\n",
      "c8dae7ec6990: Download complete\n",
      "c8dae7ec6990: Pull complete\n",
      "08684ee472f3: Pull complete\n",
      "da7709617ee6: Pull complete\n",
      "c414c3a96843: Pull complete\n",
      "e41f76c354cf: Pull complete\n",
      "Digest: sha256:498e3beaee06ac9184f81570ffbcf25f205146c4a93b50b04a9c221d688c1e96\n",
      "Status: Downloaded newer image for hyperledger/fabric-tools:2.1.0\n",
      "LOCAL_VERSION=2.1.0\n",
      "DOCKER_IMAGE_VERSION=2.1.0\n",
      "\u001b[33mWARNING\u001b[0m: The Docker Engine you're using is running in swarm mode.\n",
      "\n",
      "Compose does not use swarm mode to deploy services to multiple nodes in a swarm. All containers will be scheduled on the current node.\n",
      "\n",
      "To deploy your application across the swarm, use `docker stack deploy`.\n",
      "\n",
      "Creating network \"net_test\" with the default driver\n",
      "Creating volume \"net_peer0.org1.example.com\" with default driver\n",
      "Creating volume \"net_peer0.org2.example.com\" with default driver\n",
      "Creating volume \"net_orderer.example.com\" with default driver\n",
      "Pulling peer0.org1.example.com (hyperledger/fabric-peer:2.1.0)...\n",
      "2.1.0: Pulling from hyperledger/fabric-peer\n",
      "\n",
      "\u001b[1B3a933944: Already exists\n",
      "\u001b[1B844f0974: Pulling fs layer\n",
      "\u001b[1B0b43c926: Pulling fs layer\n",
      "\u001b[1Befaf4dc9: Pulling fs layer\n",
      "Digest: sha256:fcf543313b6bbcea3a995d71a673e320e371ca6b19795d107323426a269635cb 10.16kB/10.16kBB\n",
      "Status: Downloaded newer image for hyperledger/fabric-peer:2.1.0\n",
      "Pulling orderer.example.com (hyperledger/fabric-orderer:2.1.0)...\n",
      "2.1.0: Pulling from hyperledger/fabric-orderer\n",
      "\n",
      "\u001b[1B3a933944: Already exists\n",
      "\u001b[1B844f0974: Already exists\n",
      "\u001b[1B21c543b6: Pulling fs layer\n",
      "\u001b[1Bdcb0ad2a: Pulling fs layer\n",
      "\u001b[1B918b2053: Pulling fs layer\n",
      "Digest: sha256:91c3208524433717bc859a88c6f4573d07facb4171e53a25eb171242ddd36a93 5.761kB/5.761kBB\n",
      "Status: Downloaded newer image for hyperledger/fabric-orderer:2.1.0\n",
      "Creating peer0.org1.example.com ... \n",
      "Creating orderer.example.com ... \n",
      "Creating peer0.org2.example.com ... \n",
      "Creating peer0.org1.example.com\n",
      "Creating orderer.example.com\n",
      "Creating peer0.org2.example.com\n",
      "\u001b[1BCONTAINER ID        IMAGE                              COMMAND             CREATED             STATUS                    PORTS                    NAMES\n",
      "94480005254c        hyperledger/fabric-peer:2.1.0      \"peer node start\"   2 seconds ago       Exited (1) 1 second ago                            peer0.org2.example.com\n",
      "a39b76fcb4cc        hyperledger/fabric-peer:2.1.0      \"peer node start\"   2 seconds ago       Exited (1) 1 second ago                            peer0.org1.example.com\n",
      "fd3a080f5bc6        hyperledger/fabric-orderer:2.1.0   \"orderer\"           2 seconds ago       Up Less than a second     0.0.0.0:7050->7050/tcp   orderer.example.com\n"
     ]
    }
   ],
   "source": [
    "# enter y to continue\n",
    "bash network.sh up -i 2.1.0"
   ]
  },
  {
   "cell_type": "markdown",
   "metadata": {},
   "source": [
    "ตรวจสอบการ deploy ว่าสำเร็จหรือไม่จาก log ที่ออกมา\n",
    "\n",
    "ตรวจสอบ service ที่ถูก deploy ว่ามีอะไรบ้าง"
   ]
  },
  {
   "cell_type": "code",
   "execution_count": 11,
   "metadata": {},
   "outputs": [
    {
     "name": "stdout",
     "output_type": "stream",
     "text": [
      "CONTAINER ID        IMAGE               COMMAND             CREATED             STATUS              PORTS               NAMES\n"
     ]
    }
   ],
   "source": [
    "docker ps"
   ]
  },
  {
   "cell_type": "markdown",
   "metadata": {},
   "source": [
    "## Step 3 Create Channel"
   ]
  },
  {
   "cell_type": "markdown",
   "metadata": {},
   "source": [
    "สร้าง channel ชื่อ `getstartfabric`"
   ]
  },
  {
   "cell_type": "code",
   "execution_count": 59,
   "metadata": {},
   "outputs": [
    {
     "name": "stdout",
     "output_type": "stream",
     "text": [
      "Creating channel 'getstartfabric'.\n",
      "\n",
      "If network is not up, starting nodes with CLI timeout of '5' tries and CLI delay of '3' seconds and using database 'leveldb \n",
      "\n",
      "### Generating channel configuration transaction 'getstartfabric.tx' ###\n",
      "+ configtxgen -profile TwoOrgsChannel -outputCreateChannelTx ./channel-artifacts/getstartfabric.tx -channelID getstartfabric\n",
      "\u001b[34m2020-05-08 08:51:04.772 +07 [common.tools.configtxgen] main -> INFO 001\u001b[0m Loading configuration\n",
      "\u001b[34m2020-05-08 08:51:04.789 +07 [common.tools.configtxgen.localconfig] Load -> INFO 002\u001b[0m Loaded configuration: /home/rattaphon/fabric-samples/test-network/configtx/configtx.yaml\n",
      "\u001b[34m2020-05-08 08:51:04.789 +07 [common.tools.configtxgen] doOutputChannelCreateTx -> INFO 003\u001b[0m Generating new channel configtx\n",
      "\u001b[35m2020-05-08 08:51:04.796 +07 [common.tools.configtxgen] func1 -> PANI 004\u001b[0m proto: Marshal called with nil\n",
      "panic: proto: Marshal called with nil [recovered]\n",
      "\tpanic: proto: Marshal called with nil\n",
      "\n",
      "goroutine 1 [running]:\n",
      "github.com/hyperledger/fabric/vendor/go.uber.org/zap/zapcore.(*CheckedEntry).Write(0xc0000c20b0, 0x0, 0x0, 0x0)\n",
      "\t/__w/1/go/src/github.com/hyperledger/fabric/vendor/go.uber.org/zap/zapcore/entry.go:230 +0x545\n",
      "github.com/hyperledger/fabric/vendor/go.uber.org/zap.(*SugaredLogger).log(0xc00012a2f0, 0x4, 0xc0002c8420, 0x1e, 0x0, 0x0, 0x0, 0x0, 0x0, 0x0)\n",
      "\t/__w/1/go/src/github.com/hyperledger/fabric/vendor/go.uber.org/zap/sugar.go:234 +0x100\n",
      "github.com/hyperledger/fabric/vendor/go.uber.org/zap.(*SugaredLogger).Panicf(...)\n",
      "\t/__w/1/go/src/github.com/hyperledger/fabric/vendor/go.uber.org/zap/sugar.go:159\n",
      "github.com/hyperledger/fabric/common/flogging.(*FabricLogger).Panic(0xc00012a2f8, 0xc00057f828, 0x1, 0x1)\n",
      "\t/__w/1/go/src/github.com/hyperledger/fabric/common/flogging/zap.go:73 +0x99\n",
      "main.main.func1()\n",
      "\t/__w/1/go/src/github.com/hyperledger/fabric/cmd/configtxgen/main.go:253 +0x176\n",
      "panic(0xabeb40, 0xc000110350)\n",
      "\t/usr/local/go/src/runtime/panic.go:967 +0x166\n",
      "github.com/hyperledger/fabric/protoutil.MarshalOrPanic(...)\n",
      "\t/__w/1/go/src/github.com/hyperledger/fabric/protoutil/commonutils.go:26\n",
      "github.com/hyperledger/fabric/internal/configtxgen/encoder.addValue(0xc0001dd1d0, 0xc8c480, 0xc0000b4b40, 0xba0a95, 0x6)\n",
      "\t/__w/1/go/src/github.com/hyperledger/fabric/internal/configtxgen/encoder/encoder.go:59 +0x1b5\n",
      "github.com/hyperledger/fabric/internal/configtxgen/encoder.NewApplicationOrgGroup(0xc0001b75f0, 0xc8c480, 0xc00023ada0, 0xba0a95)\n",
      "\t/__w/1/go/src/github.com/hyperledger/fabric/internal/configtxgen/encoder/encoder.go:325 +0x1f9\n",
      "github.com/hyperledger/fabric/internal/configtxgen/encoder.NewApplicationGroup(0xc00004b240, 0xc8c480, 0xc00023ac20, 0xba0a95)\n",
      "\t/__w/1/go/src/github.com/hyperledger/fabric/internal/configtxgen/encoder/encoder.go:297 +0x178\n",
      "github.com/hyperledger/fabric/internal/configtxgen/encoder.NewChannelGroup(0xc00004b200, 0x79a920, 0xc000139d90, 0x0)\n",
      "\t/__w/1/go/src/github.com/hyperledger/fabric/internal/configtxgen/encoder/encoder.go:161 +0x404\n",
      "github.com/hyperledger/fabric/internal/configtxgen/encoder.DefaultConfigTemplate(0xc00004b200, 0x0, 0xc00014cdc0, 0x1f)\n",
      "\t/__w/1/go/src/github.com/hyperledger/fabric/internal/configtxgen/encoder/encoder.go:423 +0x2f\n",
      "github.com/hyperledger/fabric/internal/configtxgen/encoder.MakeChannelCreationTransaction(0x7ffe7a6d5d90, 0xe, 0x0, 0x0, 0xc00004b200, 0xc00022cae0, 0xc00022cb10, 0xc00022cb40)\n",
      "\t/__w/1/go/src/github.com/hyperledger/fabric/internal/configtxgen/encoder/encoder.go:490 +0x32\n",
      "main.doOutputChannelCreateTx(0xc00004b200, 0x0, 0x7ffe7a6d5d90, 0xe, 0x7ffe7a6d5d5f, 0x25, 0xc000038c86, 0x1)\n",
      "\t/__w/1/go/src/github.com/hyperledger/fabric/cmd/configtxgen/main.go:61 +0x24f\n",
      "main.main()\n",
      "\t/__w/1/go/src/github.com/hyperledger/fabric/cmd/configtxgen/main.go:291 +0xd2a\n",
      "+ res=2\n",
      "+ set +x\n",
      "Failed to generate channel configuration transaction...\n",
      "Error !!! Create channel failed\n"
     ]
    },
    {
     "ename": "",
     "evalue": "1",
     "output_type": "error",
     "traceback": []
    }
   ],
   "source": [
    "# bash network.sh createChannel -c getstartfabric -i 2.1.0\n",
    "bash network.sh createChannel -c getstartfabric -i 2.1.0"
   ]
  },
  {
   "cell_type": "markdown",
   "metadata": {},
   "source": [
    "## Step 4 Terminate Hyperledger Fabric Network\n",
    "\n",
    "เมื่อต้องการหยุดการทำงานของ blockchain network ให้ทำการ shutdown และ clean docker container ต่างๆด้วยคำสั่งดังนี้\n",
    "\n",
    "*** ระวัง คำสั่งนี้จะทำการ kill docker container ทั้งหมดในเครื่อง ****"
   ]
  },
  {
   "cell_type": "code",
   "execution_count": 15,
   "metadata": {},
   "outputs": [
    {
     "name": "stdout",
     "output_type": "stream",
     "text": [
      "Stopping for channel 'getstartfabric' with CLI timeout of '10' seconds and CLI delay of '3' seconds\r\n",
      "proceeding ...\r\n",
      "\u001b[33mWARNING\u001b[0m: The BYFN_CA2_PRIVATE_KEY variable is not set. Defaulting to a blank string.\r\n",
      "\u001b[33mWARNING\u001b[0m: The BYFN_CA1_PRIVATE_KEY variable is not set. Defaulting to a blank string.\r\n",
      "Stopping cli                    ... \r",
      "\r\n",
      "Stopping orderer.example.com    ... \r",
      "\r\n",
      "Stopping peer1.org2.example.com ... \r",
      "\r\n",
      "Stopping peer1.org1.example.com ... \r",
      "\r\n",
      "Stopping peer0.org2.example.com ... \r",
      "\r\n",
      "Stopping peer0.org1.example.com ... \r",
      "\r\n",
      "\u001b[6A\u001b[2K\r",
      "Stopping cli                    ... \u001b[32mdone\u001b[0m\r",
      "\u001b[6B\u001b[1A\u001b[2K\r",
      "Stopping peer0.org1.example.com ... \u001b[32mdone\u001b[0m\r",
      "\u001b[1B\u001b[4A\u001b[2K\r",
      "Stopping peer1.org2.example.com ... \u001b[32mdone\u001b[0m\r",
      "\u001b[4B\u001b[5A\u001b[2K\r",
      "Stopping orderer.example.com    ... \u001b[32mdone\u001b[0m\r",
      "\u001b[5B\u001b[2A\u001b[2K\r",
      "Stopping peer0.org2.example.com ... \u001b[32mdone\u001b[0m\r",
      "\u001b[2B\u001b[3A\u001b[2K\r",
      "Stopping peer1.org1.example.com ... \u001b[32mdone\u001b[0m\r",
      "\u001b[3BRemoving cli                    ... \r",
      "\r\n",
      "Removing orderer.example.com    ... \r",
      "\r\n",
      "Removing peer1.org2.example.com ... \r",
      "\r\n",
      "Removing peer1.org1.example.com ... \r",
      "\r\n",
      "Removing peer0.org2.example.com ... \r",
      "\r\n",
      "Removing peer0.org1.example.com ... \r",
      "\r\n",
      "\u001b[1A\u001b[2K\r",
      "Removing peer0.org1.example.com ... \u001b[32mdone\u001b[0m\r",
      "\u001b[1B\u001b[4A\u001b[2K\r",
      "Removing peer1.org2.example.com ... \u001b[32mdone\u001b[0m\r",
      "\u001b[4B\u001b[3A\u001b[2K\r",
      "Removing peer1.org1.example.com ... \u001b[32mdone\u001b[0m\r",
      "\u001b[3B\u001b[5A\u001b[2K\r",
      "Removing orderer.example.com    ... \u001b[32mdone\u001b[0m\r",
      "\u001b[5B\u001b[2A\u001b[2K\r",
      "Removing peer0.org2.example.com ... \u001b[32mdone\u001b[0m\r",
      "\u001b[2B\u001b[6A\u001b[2K\r",
      "Removing cli                    ... \u001b[32mdone\u001b[0m\r",
      "\u001b[6BRemoving network net_byfn\r\n",
      "Removing volume net_peer0.org3.example.com\r\n",
      "\u001b[33mWARNING\u001b[0m: Volume net_peer0.org3.example.com not found.\r\n",
      "Removing volume net_peer1.org3.example.com\r\n",
      "\u001b[33mWARNING\u001b[0m: Volume net_peer1.org3.example.com not found.\r\n",
      "Removing volume net_orderer2.example.com\r\n",
      "\u001b[33mWARNING\u001b[0m: Volume net_orderer2.example.com not found.\r\n",
      "Removing volume net_orderer.example.com\r\n",
      "Removing volume net_peer0.org2.example.com\r\n",
      "Removing volume net_peer0.org1.example.com\r\n",
      "Removing volume net_peer1.org1.example.com\r\n",
      "Removing volume net_peer1.org2.example.com\r\n",
      "Removing volume net_orderer5.example.com\r\n",
      "\u001b[33mWARNING\u001b[0m: Volume net_orderer5.example.com not found.\r\n",
      "Removing volume net_orderer4.example.com\r\n",
      "\u001b[33mWARNING\u001b[0m: Volume net_orderer4.example.com not found.\r\n",
      "Removing volume net_orderer3.example.com\r\n",
      "\u001b[33mWARNING\u001b[0m: Volume net_orderer3.example.com not found.\r\n",
      "fbf88c3eb635\r\n",
      "29a73802c5a4\r\n",
      "3043228091dd\r\n",
      "Untagged: dev-peer1.org2.example.com-mycc-1.0-26c2ef32838554aac4f7ad6f100aca865e87959c9a126e86d764c8d01f8346ab:latest\r\n",
      "Deleted: sha256:71a46eb7b2062f663d835dba23b60e9c51b86933040dc9c06cb464e4e512da2c\r\n",
      "Deleted: sha256:60f8796515107af6a31d75774f847ea819ea8f2946fbfa5a5066d472b3382514\r\n",
      "Deleted: sha256:7ada5ddb7c1d18111ff31ded6e4722b8ae8b5381e96e78d76ef3b0d6e72f439f\r\n",
      "Deleted: sha256:189142f3c97d60a8ab8c532e86ed900f2abb7b2ed6e92e3f4076db7724c1b365\r\n",
      "Untagged: dev-peer0.org1.example.com-mycc-1.0-384f11f484b9302df90b453200cfb25174305fce8f53f4e94d45ee3b6cab0ce9:latest\r\n",
      "Deleted: sha256:55818851dbcfefee270703bb84c43aec593dddf21ac1652b7db960ec11e5ae54\r\n",
      "Deleted: sha256:03e520e22f30d293b26a918559aa928fa1940e7537cea772816b8c1e7593004d\r\n",
      "Deleted: sha256:7cdf4bdd9dd5b2cb58b032494477fa536973ba90ef3f659c54cb6dbac2d696eb\r\n",
      "Deleted: sha256:fc77da1f4e80fff0b2a2f3dd363e0617e3e7518572959b5181b5c75f38900c96\r\n",
      "Untagged: dev-peer0.org2.example.com-mycc-1.0-15b571b3ce849066b7ec74497da3b27e54e0df1345daff3951b94245ce09c42b:latest\r\n",
      "Deleted: sha256:7e50935e4242dc44ce5f66c57b5f106d9ad1d1ac7ba1f88cfaf445912b5e4813\r\n",
      "Deleted: sha256:56435f1e304f1b77663bcb04f0bef91020fa61d1907e5e887725cb28f0e87aa2\r\n",
      "Deleted: sha256:637811180f78062a86d2bad82eef6bd2a95fb3f5d6238dbcaed810796402cc3c\r\n",
      "Deleted: sha256:31fb6d39764dce95473116c3a8aca969ada4853dfb6ee1bd2a23499dbeb99e38\r\n",
      "\n"
     ]
    }
   ],
   "source": [
    "echo \"y\" |\n",
    "bash ./byfn.sh down -c getstartfabric"
   ]
  },
  {
   "cell_type": "markdown",
   "metadata": {},
   "source": [
    "## สรุป\n",
    "\n",
    "ทีนี้เราก็สามารถใช้เครื่องนี้เพื่อรัน Ubuntu command จาก notebook เพื่อใช้งาน Hyperledger Fabric ได้ และได้ลองทำการสร้าง crypto materials ซึ่งประกอบด้วย private key และ certificate จำนวนมาก ซึ่งจะเป็นองค์ประกอบหลักในการ deploy blockchain network เพื่อใช้งาน โดยในบทความถัดๆไปจะพาไปทำความรู้จักกับเจ้า crypto materials นี้แบบเข้มข้นสุดๆ นอกจากนี้เรายังได้ลองทำการ deploy chaincode ซึ่งเทียบเท่ากับ smart contract ของ blockchain อื่นๆ และทดลองทำการ รันแบบ end-2-end เพื่อทดสอบการทำงานระบบทั้งหมด และสุดท้าย เมื่อเราไม่ต้องการใช้งาน Hyperledger Fabric network ต่อเราก็สามารถปิดการทำงานและ clean สิิ่งที่เก็ดจากการ deploy ออก ซึ่งการ terminate ที่ถูกต้องจะมีประโยชน์อย่างมากในภายหลัง สำหรับบทความถัดไปจะเป็นเรื่องเกี่ยวกับการปรับแต่ง config ต่างๆเพื่อใช้งาน และทดลอง install และใช้งานตัวอย่าง chaincode แบบอื่นๆ\n"
   ]
  }
 ],
 "metadata": {
  "kernelspec": {
   "display_name": "Bash",
   "language": "bash",
   "name": "bash"
  },
  "language_info": {
   "codemirror_mode": "shell",
   "file_extension": ".sh",
   "mimetype": "text/x-sh",
   "name": "bash"
  }
 },
 "nbformat": 4,
 "nbformat_minor": 2
}
