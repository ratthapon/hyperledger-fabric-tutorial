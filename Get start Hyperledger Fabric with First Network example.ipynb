{
 "cells": [
  {
   "cell_type": "markdown",
   "metadata": {},
   "source": [
    "# การติดตั้งและเริ่มใช้งาน Hyperledger Fabric เบื้องต้น\n",
    "\n",
    "*** ตัวอย่างนี้เป็นการติดตั้งและทดลองรัน Hyperledger Fabric version อย่างง่าย ซึ่งไม่เหมาะแ่กการใช้งานใน production environment ***\n",
    "\n",
    "### Requirements\n",
    "\n",
    "1. ติดตั้งโดยเครื่องมือ สคริปต์ และตัวอย่างที่ทาง official Hyperledger มีให้\n",
    "2. ติดตั้งบนเครื่อง Stand alone เพียงเครื่องเดียว\n",
    "3. ติดตั้งโดยใช้ Docker เป็นหลัก\n",
    "4. ใช้ตัวอย่าง chaincode example_02 ที่ official มีให้\n",
    "5. ผู้ติดตั้งมีสิทธิ์รัน docker\n",
    "\n",
    "### System requirements\n",
    "\n",
    "1. OS: Ubuntu 18.04 LTS (MacOS/Windows ก็สามารถติดตั้งได้เช่นกัน แต่ต้องใช้ทักษะ config Docker เพิ่มเติม)\n",
    "2. CPU: ยิ่งเยอะยิ่งดี เพราะ Blockchain มี service หลายตัวมาก รวมไปถึงใช้งาน database หลาย instance\n",
    "3. RAM: อย่างน้อย 8 GB สำหรับการติดตั้งแบบเครื่องเดียว\n",
    "4. Internet: ไม่เช่นนั้นจะไม่สามารถ run docker container ได้\n",
    "\n",
    "### Step โดยรวมในตัวอย่างนี้ประกอบด้วย\n",
    "\n",
    "0. Setup เครื่องสำหรับใช้งาน notebook นี้\n",
    "1. Setup เครื่องสำหรับการติดตั้งและใช้งาน Hyperledger Fabric\n",
    "2. Generate crypto materail ซึ่งเป็น artifact สำหรับการสร้าง blockchain network และ permissioned channel สำหรับการทำ transaction  ต่างๆ\n",
    "3. deploy blockchain network และทดสอบด้วย end to end test ที่ตัวอย่างให้มา\n",
    "4. terminate blockchain service "
   ]
  },
  {
   "cell_type": "markdown",
   "metadata": {},
   "source": [
    "สำหรับเครื่องที่ใช้ทดสอบตัวอย่างนี้มีสเปคดังนี้"
   ]
  },
  {
   "cell_type": "code",
   "execution_count": 1,
   "metadata": {},
   "outputs": [
    {
     "name": "stdout",
     "output_type": "stream",
     "text": [
      "No LSB modules are available.\n",
      "Distributor ID:\tUbuntu\n",
      "Description:\tUbuntu 18.04.4 LTS\n",
      "Release:\t18.04\n",
      "Codename:\tbionic\n",
      "\u001b[01;31m\u001b[KModel name\u001b[m\u001b[K:          Intel(R) Core(TM) i7-8665U CPU @ 1.90GHz\n",
      "\u001b[01;31m\u001b[KTotal online memory\u001b[m\u001b[K:    15.9G\n"
     ]
    }
   ],
   "source": [
    "lsb_release -a\n",
    "lscpu | grep \"Model name\"\n",
    "lsmem | grep \"Total online memory\""
   ]
  },
  {
   "cell_type": "markdown",
   "metadata": {},
   "source": [
    "## Step 0 Install & Setup environment สำหรับ notebook นี้\n",
    "\n",
    "*** step นี้ให้ run แต่ละ command ใน terminal นะครับ ***\n",
    "\n",
    "ติดตั้ง  [Bash kernel](https://github.com/takluyver/bash_kernel) สำหรับ Jupyter จะได้ run Ubuntu command ได้จากใน notebook"
   ]
  },
  {
   "cell_type": "markdown",
   "metadata": {},
   "source": [
    "```bash\n",
    "pip install bash_kernel\n",
    "python -m bash_kernel.install\n",
    "```"
   ]
  },
  {
   "cell_type": "markdown",
   "metadata": {},
   "source": [
    "แก้ให้ไม่ต้องใส่ password สำหรับคำสั่ง sudo ด้วยการ edit file /etc/sudoers"
   ]
  },
  {
   "cell_type": "markdown",
   "metadata": {},
   "source": [
    "```shell\n",
    "sudo visudo\n",
    "```"
   ]
  },
  {
   "cell_type": "markdown",
   "metadata": {},
   "source": [
    "ใส่\n",
    "\n",
    "```text\n",
    "username     ALL=(ALL) NOPASSWD:ALL\n",
    "```\n",
    "\n",
    "เข้าไปในบรรทัดสุดท้ายและ save file /etc/sudoers"
   ]
  },
  {
   "cell_type": "markdown",
   "metadata": {},
   "source": [
    "เปิด notebook นี้ด้วยการรันคำสั่งใน terminal"
   ]
  },
  {
   "cell_type": "markdown",
   "metadata": {},
   "source": [
    "```shell\n",
    "jupyter notebook\n",
    "```"
   ]
  },
  {
   "cell_type": "markdown",
   "metadata": {},
   "source": [
    "## Step 1 Setup เครื่องที่ใช้งาน\n",
    "\n",
    "### ติดตั้ง docker engine และ docker-compose ต่างๆ\n",
    "\n",
    "ในบทความนี้จะใช้ Docker Commutnity Edition (Docker CE) เป็นหลักนะครับ"
   ]
  },
  {
   "cell_type": "code",
   "execution_count": null,
   "metadata": {},
   "outputs": [],
   "source": [
    "sudo apt-get update\n",
    "\n",
    "sudo apt-get install -y \\\n",
    "    apt-transport-https \\\n",
    "    ca-certificates \\\n",
    "    curl \\\n",
    "    gnupg-agent \\\n",
    "    software-properties-common \\\n",
    "    tree \\\n",
    "    zip unzip \n",
    "    \n",
    "curl -fsSL https://download.docker.com/linux/ubuntu/gpg | sudo apt-key add -\n",
    "\n",
    "sudo add-apt-repository \\\n",
    "   \"deb [arch=amd64] https://download.docker.com/linux/ubuntu \\\n",
    "   $(lsb_release -cs) \\\n",
    "   stable\"\n",
    "   \n",
    "sudo apt-get update\n",
    "\n",
    "sudo apt-get install docker-ce docker-ce-cli containerd.io docker-compose"
   ]
  },
  {
   "cell_type": "markdown",
   "metadata": {},
   "source": [
    "### ตั้งค่าให้ user สามารถใช้ docker ได้โดยไม่ต้องใช้ `sudo` ([Docker post installation](https://docs.docker.com/install/linux/linux-postinstall/))\n"
   ]
  },
  {
   "cell_type": "code",
   "execution_count": null,
   "metadata": {},
   "outputs": [],
   "source": [
    "sudo groupadd docker\n",
    "sudo usermod -aG docker $USER"
   ]
  },
  {
   "cell_type": "markdown",
   "metadata": {},
   "source": [
    "### ทดสอบการทำงานของ docker"
   ]
  },
  {
   "cell_type": "code",
   "execution_count": null,
   "metadata": {},
   "outputs": [],
   "source": [
    "docker run hello-world"
   ]
  },
  {
   "cell_type": "markdown",
   "metadata": {},
   "source": [
    "## Step 2 Download Hyperledger Fabric binary files และ ตัวอย่าง\n",
    "\n",
    "download file ที่จำเป็นในการใช้งาน โดยจะมีสิ่งที่ต้อง download 3 ประเภทหลัก คือ \n",
    "\n",
    "### 1. Hyperledger Fabric docker images\n",
    "เป็น docker image ที่ pack core service ของ Hyperledger Fabric เอาไว้ ซึ่งสามารถ custom config/parameter ต่างๆได้\n",
    "### 2. Hyperledger Fabric samples \n",
    "เป็นตัวอย่าง config และ chaincode (smart contract) ที่ทางทีมงาน Hyperledger เตรีมไว้ให้ทดลองเล่น และสามารถนำไปประยุกต์ใช้กับ app ของเราได้\n",
    "### 3. Hyperledger Fabric platform-specific binaries\n",
    "เป็น tool สำหรับการสร้าง crypto material และเรียกใช้งาน blockchain service ต่างๆ"
   ]
  },
  {
   "cell_type": "markdown",
   "metadata": {},
   "source": [
    "คำสั่งที่ใช้ download ทุกอย่างแบบปกติ คือ\n",
    "\n",
    "```shell\n",
    "curl -sSL http://bit.ly/2ysbOFE | bash -s\n",
    "```\n",
    "\n",
    "step ข้างบนจะใช้เวลาค่อนข้างนาน เพราะต้อง download\n",
    "1. Hyperledger Fabric docker images จำนวนมาก\n",
    "2. Hyperledger Fabric samples หลายตัวอย่าง\n",
    "3. Hyperledger Fabric platform-specific binaries ซึ่งใช้เวลา download ค่อนข้างนาน\n",
    "\n",
    "\n",
    "เรามามารถ bypass ได้โดยการใส่ option\n",
    "\n",
    "-d : bypass docker image download\n",
    "\n",
    "-s : bypass fabric-samples repo clone\n",
    "\n",
    "-b : bypass download of platform-specific binaries\n",
    "\n",
    "ตัวอย่างการใช้งานเมื่อไม่ต้องการ download docker image และ samples\n",
    "\n",
    "```shell\n",
    "curl -sSL http://bit.ly/2ysbOFE | bash -s -- -d -s\n",
    "```\n",
    "\n",
    "ในตัวอย่างนี้จะทำการ download เฉพาะ binary file และตัวอย่างในเวอร์ชั่นเก่าเท่านั้น ซึ่ง docker image ที่จำเป็นจะถูก pull ในขณะ deploy service อยู่แล้ว"
   ]
  },
  {
   "cell_type": "code",
   "execution_count": null,
   "metadata": {},
   "outputs": [],
   "source": [
    "# official scripts,\n",
    "curl -sSL http://bit.ly/2ysbOFE | bash -s -- -d 1.4.7 1.4.7 0.4.15"
   ]
  },
  {
   "cell_type": "markdown",
   "metadata": {},
   "source": [
    "[ข้อมูลการติดตั้งเพิ่มเติม](https://hyperledger-fabric.readthedocs.io/en/release-1.4/install.html)\n",
    "\n",
    "Set system path เพื่อให้ระบบมองเห็น binary"
   ]
  },
  {
   "cell_type": "code",
   "execution_count": null,
   "metadata": {},
   "outputs": [],
   "source": [
    "export PATH=$PWD/bin:$PATH"
   ]
  },
  {
   "cell_type": "markdown",
   "metadata": {},
   "source": [
    "## Step 3 Generate crypto material\n",
    "\n",
    "change directory ไปที่ fabric-samples/first-network"
   ]
  },
  {
   "cell_type": "code",
   "execution_count": null,
   "metadata": {},
   "outputs": [],
   "source": [
    "cd fabric-samples/first-network\n",
    "git checkout v1.4.7"
   ]
  },
  {
   "cell_type": "markdown",
   "metadata": {},
   "source": [
    "ลองดูว่าใน script first network สามารถทำอะไรได้บ้าง"
   ]
  },
  {
   "cell_type": "code",
   "execution_count": null,
   "metadata": {},
   "outputs": [],
   "source": [
    "bash byfn.sh"
   ]
  },
  {
   "cell_type": "markdown",
   "metadata": {},
   "source": [
    "Generate crypto material สำหรับ channel ชื่อ `getstartfabric`"
   ]
  },
  {
   "cell_type": "code",
   "execution_count": null,
   "metadata": {},
   "outputs": [],
   "source": [
    "# enter y to continue\n",
    "echo \"y\" | \n",
    "bash byfn.sh generate -c getstartfabric"
   ]
  },
  {
   "cell_type": "markdown",
   "metadata": {},
   "source": [
    "ตรวจสอบไฟล์ที่ script gen มาให้"
   ]
  },
  {
   "cell_type": "code",
   "execution_count": null,
   "metadata": {
    "scrolled": true
   },
   "outputs": [],
   "source": [
    "tree ./crypto-config"
   ]
  },
  {
   "cell_type": "code",
   "execution_count": null,
   "metadata": {},
   "outputs": [],
   "source": [
    "tree ./channel-artifacts"
   ]
  },
  {
   "cell_type": "markdown",
   "metadata": {},
   "source": [
    "## Step 3 Deploy Hyperledger Fabric Network"
   ]
  },
  {
   "cell_type": "markdown",
   "metadata": {},
   "source": [
    "clean docker volume & image ก่อนทำการ deploy service"
   ]
  },
  {
   "cell_type": "code",
   "execution_count": null,
   "metadata": {},
   "outputs": [],
   "source": [
    "docker kill $(docker ps -q -f name=example.com) $(docker ps -q -f name=cli)\n",
    "docker system prune -f\n",
    "docker volume prune -f"
   ]
  },
  {
   "cell_type": "code",
   "execution_count": null,
   "metadata": {
    "scrolled": false
   },
   "outputs": [],
   "source": [
    "echo \"y\" | \n",
    "bash ./byfn.sh up -c getstartfabric -i 1.4.7"
   ]
  },
  {
   "cell_type": "markdown",
   "metadata": {},
   "source": [
    "ตรวจสอบการ deploy ว่าสำเร็จหรือไม่จาก log ที่ออกมา\n",
    "\n",
    "ตรวจสอบ service ที่ถูก deploy ว่ามีอะไรบ้าง"
   ]
  },
  {
   "cell_type": "code",
   "execution_count": null,
   "metadata": {},
   "outputs": [],
   "source": [
    "docker ps"
   ]
  },
  {
   "cell_type": "markdown",
   "metadata": {},
   "source": [
    "## Step 4 Terminate Hyperledger Fabric Network\n",
    "\n",
    "ทำการ shutdown และ clean docker container ต่างๆด้วย\n",
    "\n",
    "**ข้อควรระวัง คำสั่งนี้จะทำการ kill docker container ทั้งหมดในเครื่อง**"
   ]
  },
  {
   "cell_type": "code",
   "execution_count": null,
   "metadata": {},
   "outputs": [],
   "source": [
    "echo \"y\" |\n",
    "bash ./byfn.sh down -c getstartfabric"
   ]
  },
  {
   "cell_type": "markdown",
   "metadata": {},
   "source": [
    "\n",
    "\n",
    "\n",
    "\n",
    "\n",
    "\n",
    "\n",
    "\n",
    "\n",
    "\n",
    "\n",
    "\n",
    "\n",
    "\n",
    "\n",
    "\n"
   ]
  },
  {
   "cell_type": "markdown",
   "metadata": {},
   "source": [
    "\n",
    "\n",
    "\n",
    "\n",
    "\n",
    "\n",
    "\n",
    "\n",
    "\n",
    "\n",
    "\n",
    "\n",
    "\n",
    "\n",
    "\n",
    "\n",
    "\n",
    "\n",
    "\n",
    "\n",
    "\n",
    "\n",
    "\n",
    "\n",
    "\n",
    "\n",
    "\n",
    "\n",
    "\n",
    "\n",
    "\n",
    "\n"
   ]
  }
 ],
 "metadata": {
  "kernelspec": {
   "display_name": "Bash",
   "language": "bash",
   "name": "bash"
  },
  "language_info": {
   "codemirror_mode": "shell",
   "file_extension": ".sh",
   "mimetype": "text/x-sh",
   "name": "bash"
  }
 },
 "nbformat": 4,
 "nbformat_minor": 2
}
